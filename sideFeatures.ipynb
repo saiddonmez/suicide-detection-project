{
 "cells": [
  {
   "cell_type": "code",
   "execution_count": 1,
   "metadata": {},
   "outputs": [],
   "source": [
    "import pandas as pd\n",
    "import numpy as np"
   ]
  },
  {
   "cell_type": "markdown",
   "metadata": {},
   "source": [
    "**Dataset Buıld Code For large Amount of Data**"
   ]
  },
  {
   "cell_type": "code",
   "execution_count": null,
   "metadata": {},
   "outputs": [],
   "source": [
    "# Above is the dataset build part "
   ]
  },
  {
   "cell_type": "markdown",
   "metadata": {},
   "source": [
    "**Side Feature Construction for 3 Datasets Combined**"
   ]
  },
  {
   "cell_type": "code",
   "execution_count": 169,
   "metadata": {},
   "outputs": [],
   "source": [
    "#CLASSİCAL METHODS ONLY FEATURES START HERE\n",
    "#Big Kaggle Dataset Part\n",
    "dataset = pd.read_csv(\"all_data/kaggle_big_data/LIWC-results.csv\")"
   ]
  },
  {
   "cell_type": "code",
   "execution_count": 170,
   "metadata": {},
   "outputs": [
    {
     "data": {
      "text/plain": [
       "232058"
      ]
     },
     "execution_count": 170,
     "metadata": {},
     "output_type": "execute_result"
    }
   ],
   "source": [
    "len(dataset)"
   ]
  },
  {
   "cell_type": "code",
   "execution_count": 171,
   "metadata": {},
   "outputs": [
    {
     "name": "stdout",
     "output_type": "stream",
     "text": [
      "116034\n",
      "116024\n"
     ]
    }
   ],
   "source": [
    "print(len(dataset.loc[dataset[\"class\"] ==1]))\n",
    "print(len(dataset.loc[dataset[\"class\"] ==0]))"
   ]
  },
  {
   "cell_type": "code",
   "execution_count": 172,
   "metadata": {},
   "outputs": [
    {
     "name": "stderr",
     "output_type": "stream",
     "text": [
      "c:\\Users\\User\\anaconda3\\envs\\malsd\\lib\\site-packages\\ipykernel_launcher.py:2: FutureWarning: In a future version of pandas all arguments of DataFrame.drop except for the argument 'labels' will be keyword-only\n",
      "  \n",
      "c:\\Users\\User\\anaconda3\\envs\\malsd\\lib\\site-packages\\ipykernel_launcher.py:3: FutureWarning: In a future version of pandas all arguments of DataFrame.drop except for the argument 'labels' will be keyword-only\n",
      "  This is separate from the ipykernel package so we can avoid doing imports until\n",
      "c:\\Users\\User\\anaconda3\\envs\\malsd\\lib\\site-packages\\ipykernel_launcher.py:4: FutureWarning: In a future version of pandas all arguments of DataFrame.drop except for the argument 'labels' will be keyword-only\n",
      "  after removing the cwd from sys.path.\n",
      "c:\\Users\\User\\anaconda3\\envs\\malsd\\lib\\site-packages\\ipykernel_launcher.py:8: FutureWarning: In a future version of pandas all arguments of DataFrame.drop except for the argument 'labels' will be keyword-only\n",
      "  \n"
     ]
    }
   ],
   "source": [
    "#DATASET PREPARATION FOR BIG KAGGLE DATA\n",
    "dataset = dataset.drop(\"Unnamed: 0\",1)\n",
    "dataset = dataset.drop(\"Unnamed: 0.1\",1)\n",
    "dataset = dataset.drop(\"text\",1)\n",
    "dataset = dataset.dropna()\n",
    "labels = dataset[\"class\"]\n",
    "labels = labels.astype(\"int\")\n",
    "data = dataset.drop(\"class\",1)"
   ]
  },
  {
   "cell_type": "code",
   "execution_count": 173,
   "metadata": {},
   "outputs": [],
   "source": [
    "selected_data = pd.DataFrame()\n",
    "selected_features = [\"Clout\",\"Tone\",\"Linguistic\",\"death\",\"WC\",\"Cognition\",\"WPS\",\"focuspast\",\"focusfuture\",\"ppron\",\"Affect\",\"money\"]\n",
    "for i in selected_features:\n",
    "    data = dataset[i]\n",
    "    selected_data[i] = data"
   ]
  },
  {
   "cell_type": "code",
   "execution_count": 174,
   "metadata": {},
   "outputs": [],
   "source": [
    "#If not Normalize not run \n",
    "#means_selected_data = np.mean(selected_data)\n",
    "#stds_selected_data = np.std(selected_data)\n",
    "#selected_data = (selected_data-means_selected_data)/stds_selected_data"
   ]
  },
  {
   "cell_type": "code",
   "execution_count": 175,
   "metadata": {},
   "outputs": [
    {
     "data": {
      "text/html": [
       "<div>\n",
       "<style scoped>\n",
       "    .dataframe tbody tr th:only-of-type {\n",
       "        vertical-align: middle;\n",
       "    }\n",
       "\n",
       "    .dataframe tbody tr th {\n",
       "        vertical-align: top;\n",
       "    }\n",
       "\n",
       "    .dataframe thead th {\n",
       "        text-align: right;\n",
       "    }\n",
       "</style>\n",
       "<table border=\"1\" class=\"dataframe\">\n",
       "  <thead>\n",
       "    <tr style=\"text-align: right;\">\n",
       "      <th></th>\n",
       "      <th>Clout</th>\n",
       "      <th>Tone</th>\n",
       "      <th>Linguistic</th>\n",
       "      <th>death</th>\n",
       "      <th>WC</th>\n",
       "      <th>Cognition</th>\n",
       "      <th>WPS</th>\n",
       "      <th>focuspast</th>\n",
       "      <th>focusfuture</th>\n",
       "      <th>ppron</th>\n",
       "      <th>Affect</th>\n",
       "      <th>money</th>\n",
       "    </tr>\n",
       "  </thead>\n",
       "  <tbody>\n",
       "    <tr>\n",
       "      <th>0</th>\n",
       "      <td>52.58</td>\n",
       "      <td>2.12</td>\n",
       "      <td>72.73</td>\n",
       "      <td>2.10</td>\n",
       "      <td>143</td>\n",
       "      <td>13.29</td>\n",
       "      <td>20.43</td>\n",
       "      <td>3.50</td>\n",
       "      <td>4.20</td>\n",
       "      <td>10.49</td>\n",
       "      <td>9.09</td>\n",
       "      <td>0.7</td>\n",
       "    </tr>\n",
       "    <tr>\n",
       "      <th>1</th>\n",
       "      <td>8.59</td>\n",
       "      <td>99.00</td>\n",
       "      <td>66.67</td>\n",
       "      <td>0.00</td>\n",
       "      <td>27</td>\n",
       "      <td>25.93</td>\n",
       "      <td>27.00</td>\n",
       "      <td>3.70</td>\n",
       "      <td>0.00</td>\n",
       "      <td>0.00</td>\n",
       "      <td>7.41</td>\n",
       "      <td>0.0</td>\n",
       "    </tr>\n",
       "    <tr>\n",
       "      <th>2</th>\n",
       "      <td>7.93</td>\n",
       "      <td>1.00</td>\n",
       "      <td>73.08</td>\n",
       "      <td>0.00</td>\n",
       "      <td>26</td>\n",
       "      <td>15.38</td>\n",
       "      <td>8.67</td>\n",
       "      <td>3.85</td>\n",
       "      <td>0.00</td>\n",
       "      <td>0.00</td>\n",
       "      <td>11.54</td>\n",
       "      <td>0.0</td>\n",
       "    </tr>\n",
       "    <tr>\n",
       "      <th>3</th>\n",
       "      <td>1.00</td>\n",
       "      <td>99.00</td>\n",
       "      <td>77.78</td>\n",
       "      <td>0.00</td>\n",
       "      <td>9</td>\n",
       "      <td>11.11</td>\n",
       "      <td>9.00</td>\n",
       "      <td>0.00</td>\n",
       "      <td>0.00</td>\n",
       "      <td>33.33</td>\n",
       "      <td>33.33</td>\n",
       "      <td>0.0</td>\n",
       "    </tr>\n",
       "    <tr>\n",
       "      <th>4</th>\n",
       "      <td>19.13</td>\n",
       "      <td>1.00</td>\n",
       "      <td>69.27</td>\n",
       "      <td>0.46</td>\n",
       "      <td>436</td>\n",
       "      <td>14.22</td>\n",
       "      <td>19.82</td>\n",
       "      <td>8.26</td>\n",
       "      <td>1.15</td>\n",
       "      <td>8.49</td>\n",
       "      <td>9.63</td>\n",
       "      <td>0.0</td>\n",
       "    </tr>\n",
       "  </tbody>\n",
       "</table>\n",
       "</div>"
      ],
      "text/plain": [
       "   Clout   Tone  Linguistic  death   WC  Cognition    WPS  focuspast  \\\n",
       "0  52.58   2.12       72.73   2.10  143      13.29  20.43       3.50   \n",
       "1   8.59  99.00       66.67   0.00   27      25.93  27.00       3.70   \n",
       "2   7.93   1.00       73.08   0.00   26      15.38   8.67       3.85   \n",
       "3   1.00  99.00       77.78   0.00    9      11.11   9.00       0.00   \n",
       "4  19.13   1.00       69.27   0.46  436      14.22  19.82       8.26   \n",
       "\n",
       "   focusfuture  ppron  Affect  money  \n",
       "0         4.20  10.49    9.09    0.7  \n",
       "1         0.00   0.00    7.41    0.0  \n",
       "2         0.00   0.00   11.54    0.0  \n",
       "3         0.00  33.33   33.33    0.0  \n",
       "4         1.15   8.49    9.63    0.0  "
      ]
     },
     "execution_count": 175,
     "metadata": {},
     "output_type": "execute_result"
    }
   ],
   "source": [
    "selected_data.head()"
   ]
  },
  {
   "cell_type": "code",
   "execution_count": 176,
   "metadata": {},
   "outputs": [
    {
     "name": "stdout",
     "output_type": "stream",
     "text": [
      "len train:  185645 len test:  46412\n"
     ]
    }
   ],
   "source": [
    "from sklearn.model_selection import train_test_split\n",
    "big_train_set,big_test_set,big_train_labels,big_test_labels = train_test_split(selected_data,labels,test_size=0.2,shuffle= True,random_state=42,stratify=labels)\n",
    "print(\"len train: \",len(big_train_set),\"len test: \",len(big_test_set))"
   ]
  },
  {
   "cell_type": "code",
   "execution_count": 177,
   "metadata": {},
   "outputs": [],
   "source": [
    "reddit_data = pd.read_csv(r\"D:\\Masaüstü\\suicide-detection-project\\all_data\\reddit_life_data\\reddit_corpus_agree_LIWC.csv\")"
   ]
  },
  {
   "cell_type": "code",
   "execution_count": 178,
   "metadata": {},
   "outputs": [],
   "source": [
    "selected_features = [\"Clout\",\"Tone\",\"Linguistic\",\"death\",\"WC\",\"Cognition\",\"WPS\",\"focuspast\",\"focusfuture\",\"ppron\",\"Affect\",\"money\"]\n",
    "reddit_label = reddit_data[\"class\"].astype(\"int\")\n",
    "reddit_data = reddit_data[selected_features]\n"
   ]
  },
  {
   "cell_type": "code",
   "execution_count": 179,
   "metadata": {},
   "outputs": [
    {
     "name": "stdout",
     "output_type": "stream",
     "text": [
      "len train:  136 len test:  35\n"
     ]
    }
   ],
   "source": [
    "reddit_train_set,reddit_test_set,reddit_train_labels,reddit_test_labels = train_test_split(reddit_data,reddit_label,test_size=0.2,shuffle= True,random_state=42,stratify=reddit_label)\n",
    "print(\"len train: \",len(reddit_train_labels),\"len test: \",len(reddit_test_labels))"
   ]
  },
  {
   "cell_type": "code",
   "execution_count": 180,
   "metadata": {},
   "outputs": [],
   "source": [
    "gsn_data = pd.read_csv(r\"D:\\Masaüstü\\suicide-detection-project\\all_data\\schoene_data\\GSN-LIWC Analysis.csv\")\n",
    "kaggle_data = pd.read_csv(r\"D:\\Masaüstü\\suicide-detection-project\\all_data\\schoene_data\\kaggle_test_LIWC.csv\")"
   ]
  },
  {
   "cell_type": "code",
   "execution_count": 181,
   "metadata": {},
   "outputs": [],
   "source": [
    "schoene_neu = pd.read_csv(r\"D:\\Masaüstü\\suicide-detection-project\\all_data\\schoene_data\\NEU-LIWC Analysis.csv\")\n",
    "schoene_neu_x = schoene_neu[selected_features]\n",
    "schoene_neu_y = schoene_neu[\"class\"]"
   ]
  },
  {
   "cell_type": "code",
   "execution_count": 182,
   "metadata": {},
   "outputs": [],
   "source": [
    "all_schoene = pd.concat((gsn_data,kaggle_data),axis=0)\n",
    "\n",
    "selected_features = [\"Clout\",\"Tone\",\"Linguistic\",\"death\",\"WC\",\"Cognition\",\"WPS\",\"focuspast\",\"focusfuture\",\"ppron\",\"Affect\",\"money\"]\n",
    "schoene_label = all_schoene[\"class\"].astype(\"int\")\n",
    "schoene_data = all_schoene[selected_features]\n"
   ]
  },
  {
   "cell_type": "code",
   "execution_count": 183,
   "metadata": {},
   "outputs": [
    {
     "name": "stdout",
     "output_type": "stream",
     "text": [
      "len train:  541 len test:  136\n",
      "len train:  5410 len test:  136\n"
     ]
    }
   ],
   "source": [
    "schoene_train_set,schoene_test_set,schoene_train_labels,schoene_test_labels = train_test_split(schoene_data,schoene_label,test_size=0.2,shuffle= True,random_state=42,stratify=schoene_label)\n",
    "print(\"len train: \",len(schoene_train_labels),\"len test: \",len(schoene_test_labels))\n",
    "schoene_train_set = np.array(schoene_train_set)\n",
    "schoene_train_labels = np.array(schoene_train_labels)\n",
    "schoene_train_set = np.repeat(schoene_train_set, repeats=10,axis= 0)\n",
    "schoene_train_labels = np.repeat(schoene_train_labels, repeats=10,axis= 0)\n",
    "print(\"len train: \",len(schoene_train_labels),\"len test: \",len(schoene_test_labels))\n"
   ]
  },
  {
   "cell_type": "code",
   "execution_count": 184,
   "metadata": {},
   "outputs": [],
   "source": [
    "sent140_neu =pd.read_csv(r\"D:\\Masaüstü\\suicide-detection-project\\all_data\\sent140_data\\sent140_neutral-LIWC Analysis.csv\")\n",
    "sent140_labels = sent140_neu[\"class\"]\n",
    "sent140_neu= sent140_neu[selected_features]"
   ]
  },
  {
   "cell_type": "code",
   "execution_count": 197,
   "metadata": {},
   "outputs": [
    {
     "name": "stdout",
     "output_type": "stream",
     "text": [
      "len train:  479999 len test:  1120000\n"
     ]
    }
   ],
   "source": [
    "sent140_train_set,sent140_test_set,sent140_train_labels,sent140_test_labels = train_test_split(sent140_neu,sent140_labels,test_size=0.7,shuffle= True,random_state=42)\n",
    "print(\"len train: \",len(sent140_train_labels),\"len test: \",len(sent140_test_labels))"
   ]
  },
  {
   "cell_type": "code",
   "execution_count": 201,
   "metadata": {},
   "outputs": [],
   "source": [
    "train_set = np.concatenate((big_train_set,reddit_train_set,schoene_train_set,sent140_train_set))\n",
    "train_labels = np.concatenate((big_train_labels,reddit_train_labels,schoene_train_labels,sent140_train_labels))\n",
    "train_data = np.column_stack((train_set,train_labels))\n",
    "np.random.shuffle(train_data)\n",
    "\n",
    "train_labels = train_data[:,-1]\n",
    "train_set = train_data[:,:-1]\n",
    "\n",
    "test_set = np.concatenate((big_test_set,reddit_test_set,schoene_test_set,sent140_test_set))\n",
    "test_labels = np.concatenate((big_test_labels,reddit_test_labels,schoene_test_labels,sent140_test_labels))"
   ]
  },
  {
   "cell_type": "code",
   "execution_count": 202,
   "metadata": {},
   "outputs": [
    {
     "name": "stdout",
     "output_type": "stream",
     "text": [
      "Number of Positive Samples in Training is:  98356\n",
      "Number of Negative Samples in Training is:  572834\n",
      "Ratio of positive and negative samples are  0.14653972794588715 0.8534602720541128\n"
     ]
    }
   ],
   "source": [
    "pos_num = int(np.sum(train_labels))\n",
    "neg_num = int(len(train_labels)-np.sum(train_labels))\n",
    "print(\"Number of Positive Samples in Training is: \",pos_num)\n",
    "print(\"Number of Negative Samples in Training is: \",neg_num)\n",
    "print(\"Ratio of positive and negative samples are \",pos_num/(pos_num+neg_num), neg_num/(pos_num+neg_num))\n"
   ]
  },
  {
   "cell_type": "code",
   "execution_count": 203,
   "metadata": {},
   "outputs": [
    {
     "name": "stdout",
     "output_type": "stream",
     "text": [
      "Number of Positive Samples in Test is:  23374\n",
      "Number of Negative Samples in Test is:  1143209\n",
      "Ratio of positive and negative samples are  0.020036294031371964 0.979963705968628\n"
     ]
    }
   ],
   "source": [
    "pos_num = int(np.sum(test_labels))\n",
    "neg_num = int(len(test_labels)-np.sum(test_labels))\n",
    "print(\"Number of Positive Samples in Test is: \",pos_num)\n",
    "print(\"Number of Negative Samples in Test is: \",neg_num)\n",
    "print(\"Ratio of positive and negative samples are \",pos_num/(pos_num+neg_num), neg_num/(pos_num+neg_num))"
   ]
  },
  {
   "cell_type": "code",
   "execution_count": 204,
   "metadata": {},
   "outputs": [
    {
     "name": "stdout",
     "output_type": "stream",
     "text": [
      "Train set length =  671190 671190\n"
     ]
    }
   ],
   "source": [
    "print( \"Train set length = \",len(train_set),len(train_labels))"
   ]
  },
  {
   "cell_type": "code",
   "execution_count": 205,
   "metadata": {},
   "outputs": [
    {
     "data": {
      "text/plain": [
       "LGBMClassifier(colsample_bynode=0.6, colsample_bytree=0.64079,\n",
       "               is_unbalance=True, learning_rate=0.01, max_depth=4,\n",
       "               n_estimators=1000, num_leaves=100)"
      ]
     },
     "execution_count": 205,
     "metadata": {},
     "output_type": "execute_result"
    }
   ],
   "source": [
    "import matplotlib.pyplot as plt\n",
    "\n",
    "import lightgbm\n",
    "\n",
    "from lightgbm import LGBMClassifier\n",
    "\n",
    "lgbm_model = LGBMClassifier(max_depth=4,n_estimators=1000,num_leaves=100,colsample_bynode= 0.6,colsample_bytree= 0.64079,learning_rate=0.01,is_unbalance = True)\n",
    "\n",
    "lgbm_model.fit(train_set, train_labels)"
   ]
  },
  {
   "cell_type": "code",
   "execution_count": 207,
   "metadata": {},
   "outputs": [
    {
     "name": "stdout",
     "output_type": "stream",
     "text": [
      "0.8088235294117647 0.9142857142857143 0.7812203740411963 0.9817449765683196\n"
     ]
    }
   ],
   "source": [
    "schoene_y = lgbm_model.predict(schoene_test_set)\n",
    "reddit_y = lgbm_model.predict(reddit_test_set)\n",
    "big_y = lgbm_model.predict(big_test_set)\n",
    "test_y = lgbm_model.predict(test_set)\n",
    "from sklearn.metrics import accuracy_score\n",
    "\n",
    "acc1 = accuracy_score(schoene_test_labels, schoene_y)\n",
    "acc2 = accuracy_score(reddit_test_labels,reddit_y)\n",
    "acc3 = accuracy_score(big_test_labels, big_y)\n",
    "acc4 = accuracy_score(test_labels, test_y)\n",
    "print(acc1,acc2,acc3,acc4)"
   ]
  },
  {
   "cell_type": "code",
   "execution_count": 208,
   "metadata": {},
   "outputs": [
    {
     "data": {
      "image/png": "[encoded data removed]",
      "text/plain": [
       "<Figure size 432x288 with 2 Axes>"
      ]
     },
     "metadata": {
      "needs_background": "light"
     },
     "output_type": "display_data"
    }
   ],
   "source": [
    "#Complete Test Set Matrices\n",
    "import matplotlib.pyplot as plt\n",
    "from sklearn.metrics import confusion_matrix\n",
    "from sklearn.metrics import plot_confusion_matrix\n",
    "import seaborn as sns\n",
    "cf_matrix = confusion_matrix(test_labels,test_y)\n",
    "\n",
    "labels = ['True Neg','False Pos','False Neg','True Pos']\n",
    "\n",
    "labels = np.asarray(labels).reshape(2,2)\n",
    "\n",
    "ax = sns.heatmap(cf_matrix, annot=cf_matrix, fmt='', cmap='Blues')\n",
    "\n",
    "ax.set_title('Schoene Test Set Confusion Matrix\\n\\n');\n",
    "ax.set_xlabel('\\nPredicted Values')\n",
    "ax.set_ylabel('Actual Values ');\n",
    "\n",
    "## Ticket labels - List must be in alphabetical order\n",
    "ax.xaxis.set_ticklabels(['False','True'])\n",
    "ax.yaxis.set_ticklabels(['False','True'])\n",
    "\n",
    "## Display the visualization of the Confusion Matrix.\n",
    "plt.show()"
   ]
  },
  {
   "cell_type": "code",
   "execution_count": 209,
   "metadata": {},
   "outputs": [
    {
     "name": "stdout",
     "output_type": "stream",
     "text": [
      "Recal:  0.9175151878155215  Precision:  0.5254569510462096  F1 Score:  0.6682245902660933\n"
     ]
    }
   ],
   "source": [
    "import sklearn\n",
    "recall = sklearn.metrics.recall_score(test_labels,test_y)\n",
    "precision = sklearn.metrics.precision_score(test_labels,test_y)\n",
    "f1 =  sklearn.metrics.f1_score(test_labels,test_y)\n",
    "print(\"Recal: \", recall,\" Precision: \",precision,\" F1 Score: \",f1)"
   ]
  },
  {
   "cell_type": "code",
   "execution_count": 44,
   "metadata": {},
   "outputs": [
    {
     "data": {
      "text/plain": [
       "1625817"
      ]
     },
     "execution_count": 44,
     "metadata": {},
     "output_type": "execute_result"
    }
   ],
   "source": [
    "len(test_labels)"
   ]
  },
  {
   "cell_type": "code",
   "execution_count": 140,
   "metadata": {},
   "outputs": [
    {
     "data": {
      "image/png": "[encoded data removed]",
      "text/plain": [
       "<Figure size 432x288 with 2 Axes>"
      ]
     },
     "metadata": {
      "needs_background": "light"
     },
     "output_type": "display_data"
    }
   ],
   "source": [
    "import matplotlib.pyplot as plt\n",
    "from sklearn.metrics import confusion_matrix\n",
    "from sklearn.metrics import plot_confusion_matrix\n",
    "import seaborn as sns\n",
    "cf_matrix = confusion_matrix(reddit_test_labels,reddit_y)\n",
    "\n",
    "labels = ['True Neg','False Pos','False Neg','True Pos']\n",
    "\n",
    "labels = np.asarray(labels).reshape(2,2)\n",
    "\n",
    "ax = sns.heatmap(cf_matrix, annot=cf_matrix, fmt='', cmap='Blues')\n",
    "\n",
    "ax.set_title('Reddit Test Set Confusion Matrix\\n\\n');\n",
    "ax.set_xlabel('\\nPredicted Values')\n",
    "ax.set_ylabel('Actual Values ');\n",
    "\n",
    "## Ticket labels - List must be in alphabetical order\n",
    "ax.xaxis.set_ticklabels(['False','True'])\n",
    "ax.yaxis.set_ticklabels(['False','True'])\n",
    "\n",
    "## Display the visualization of the Confusion Matrix.\n",
    "plt.show()"
   ]
  },
  {
   "cell_type": "code",
   "execution_count": 141,
   "metadata": {},
   "outputs": [
    {
     "name": "stdout",
     "output_type": "stream",
     "text": [
      "Recal:  1.0  Precision:  0.9019607843137255  F1 Score:  0.9484536082474228\n"
     ]
    }
   ],
   "source": [
    "import sklearn\n",
    "recall = sklearn.metrics.recall_score(reddit_test_labels,reddit_y)\n",
    "precision = sklearn.metrics.precision_score(reddit_test_labels,reddit_y)\n",
    "f1 =  sklearn.metrics.f1_score(reddit_test_labels,reddit_y)\n",
    "print(\"Recal: \", recall,\" Precision: \",precision,\" F1 Score: \",f1)"
   ]
  },
  {
   "cell_type": "code",
   "execution_count": 142,
   "metadata": {},
   "outputs": [
    {
     "data": {
      "image/png": "[encoded data removed]",
      "text/plain": [
       "<Figure size 432x288 with 2 Axes>"
      ]
     },
     "metadata": {
      "needs_background": "light"
     },
     "output_type": "display_data"
    }
   ],
   "source": [
    "import matplotlib.pyplot as plt\n",
    "from sklearn.metrics import confusion_matrix\n",
    "from sklearn.metrics import plot_confusion_matrix\n",
    "import seaborn as sns\n",
    "cf_matrix = confusion_matrix(big_test_labels,big_y)\n",
    "\n",
    "labels = ['True Neg','False Pos','False Neg','True Pos']\n",
    "\n",
    "labels = np.asarray(labels).reshape(2,2)\n",
    "\n",
    "ax = sns.heatmap(cf_matrix, annot=cf_matrix, fmt='', cmap='Blues')\n",
    "\n",
    "ax.set_title('Big Kaggle Test Set Confusion Matrix\\n\\n');\n",
    "ax.set_xlabel('\\nPredicted Values')\n",
    "ax.set_ylabel('Actual Values ');\n",
    "\n",
    "## Ticket labels - List must be in alphabetical order\n",
    "ax.xaxis.set_ticklabels(['False','True'])\n",
    "ax.yaxis.set_ticklabels(['False','True'])\n",
    "\n",
    "## Display the visualization of the Confusion Matrix.\n",
    "plt.show()"
   ]
  },
  {
   "cell_type": "code",
   "execution_count": 143,
   "metadata": {},
   "outputs": [
    {
     "name": "stdout",
     "output_type": "stream",
     "text": [
      "Recal:  0.826773915541511  Precision:  0.873338593190508  F1 Score:  0.8494185703323299\n"
     ]
    }
   ],
   "source": [
    "import sklearn\n",
    "recall = sklearn.metrics.recall_score(big_test_labels,big_y)\n",
    "precision = sklearn.metrics.precision_score(big_test_labels,big_y)\n",
    "f1 =  sklearn.metrics.f1_score(big_test_labels,big_y)\n",
    "print(\"Recal: \", recall,\" Precision: \",precision,\" F1 Score: \",f1)"
   ]
  },
  {
   "cell_type": "code",
   "execution_count": 144,
   "metadata": {},
   "outputs": [],
   "source": [
    "#LOAD THE LIWC RESULT\n",
    "sent140_neu =pd.read_csv(r\"D:\\Masaüstü\\suicide-detection-project\\all_data\\sent140_data\\sent140_neutral-LIWC Analysis.csv\")"
   ]
  },
  {
   "cell_type": "code",
   "execution_count": 145,
   "metadata": {},
   "outputs": [],
   "source": [
    "sent140_test_labels = sent140_neu[\"class\"]\n",
    "sent140_neu_test_set = sent140_neu[selected_features]\n",
    "#sent140_neu_test = (sent140_neu_test-means_selected_data)/stds_selected_data"
   ]
  },
  {
   "cell_type": "code",
   "execution_count": 146,
   "metadata": {},
   "outputs": [],
   "source": [
    "sen140pred = lgbm_model.predict(sent140_neu_test_set)"
   ]
  },
  {
   "cell_type": "code",
   "execution_count": 147,
   "metadata": {},
   "outputs": [
    {
     "data": {
      "image/png": "[encoded data removed]",
      "text/plain": [
       "<Figure size 432x288 with 2 Axes>"
      ]
     },
     "metadata": {
      "needs_background": "light"
     },
     "output_type": "display_data"
    }
   ],
   "source": [
    "import matplotlib.pyplot as plt\n",
    "from sklearn.metrics import plot_confusion_matrix\n",
    "import seaborn as sns\n",
    "cf_matrix = confusion_matrix(sent140_test_labels,sen140pred)\n",
    "\n",
    "labels = ['True Neg','False Pos','False Neg','True Pos']\n",
    "\n",
    "labels = np.asarray(labels).reshape(2,2)\n",
    "\n",
    "ax = sns.heatmap(cf_matrix, annot=cf_matrix, fmt='', cmap='Blues')\n",
    "\n",
    "ax.set_title('Sent140 all neutral Dataset \\n\\n');\n",
    "ax.set_xlabel('\\nPredicted Values')\n",
    "ax.set_ylabel('Actual Values ');\n",
    "\n",
    "## Ticket labels - List must be in alphabetical order\n",
    "ax.xaxis.set_ticklabels(['False','True'])\n",
    "ax.yaxis.set_ticklabels(['False','True'])\n",
    "\n",
    "## Display the visualization of the Confusion Matrix.\n",
    "plt.show()"
   ]
  },
  {
   "cell_type": "code",
   "execution_count": 148,
   "metadata": {},
   "outputs": [
    {
     "data": {
      "image/png": "[encoded data removed]",
      "text/plain": [
       "<Figure size 432x288 with 2 Axes>"
      ]
     },
     "metadata": {
      "needs_background": "light"
     },
     "output_type": "display_data"
    }
   ],
   "source": [
    "ax = sns.heatmap(cf_matrix/np.sum(cf_matrix), annot=True, \n",
    "            fmt='.2%', cmap='Blues')\n",
    "\n",
    "ax.set_title('Seaborn Confusion Matrix with labels\\n\\n');\n",
    "ax.set_xlabel('\\nPredicted Values')\n",
    "ax.set_ylabel('Actual Values ')\n",
    "\n",
    "## Ticket labels - List must be in alphabetical order\n",
    "ax.xaxis.set_ticklabels(['False','True'])\n",
    "ax.yaxis.set_ticklabels(['False','True'])\n",
    "\n",
    "## Display the visualization of the Confusion Matrix.\n",
    "plt.show()"
   ]
  },
  {
   "cell_type": "code",
   "execution_count": 150,
   "metadata": {},
   "outputs": [],
   "source": [
    "#Complete test dataset\n",
    "test_set_all = np.concatenate((big_test_set,reddit_test_set,schoene_test_set,sent140_neu_test_set))\n",
    "test_set_labels_all = np.concatenate((big_test_labels,reddit_test_labels,schoene_test_labels,sent140_test_labels))\n",
    "\n",
    "all_test_y = lgbm_model.predict(test_set_all)\n"
   ]
  },
  {
   "cell_type": "code",
   "execution_count": 151,
   "metadata": {},
   "outputs": [
    {
     "data": {
      "image/png": "[encoded data removed]",
      "text/plain": [
       "<Figure size 432x288 with 2 Axes>"
      ]
     },
     "metadata": {
      "needs_background": "light"
     },
     "output_type": "display_data"
    }
   ],
   "source": [
    "import matplotlib.pyplot as plt\n",
    "from sklearn.metrics import plot_confusion_matrix\n",
    "import seaborn as sns\n",
    "cf_matrix = confusion_matrix(test_set_labels_all,all_test_y)\n",
    "\n",
    "labels = ['True Neg','False Pos','False Neg','True Pos']\n",
    "\n",
    "labels = np.asarray(labels).reshape(2,2)\n",
    "\n",
    "ax = sns.heatmap(cf_matrix, annot=cf_matrix, fmt='', cmap='Blues')\n",
    "\n",
    "ax.set_title('ALL Datasets Combined Conf Matrix \\n\\n');\n",
    "ax.set_xlabel('\\nPredicted Values')\n",
    "ax.set_ylabel('Actual Values ');\n",
    "\n",
    "## Ticket labels - List must be in alphabetical order\n",
    "ax.xaxis.set_ticklabels(['False','True'])\n",
    "ax.yaxis.set_ticklabels(['False','True'])\n",
    "\n",
    "## Display the visualization of the Confusion Matrix.\n",
    "plt.show()"
   ]
  },
  {
   "cell_type": "code",
   "execution_count": 152,
   "metadata": {},
   "outputs": [
    {
     "data": {
      "image/png": "[encoded data removed]",
      "text/plain": [
       "<Figure size 432x288 with 2 Axes>"
      ]
     },
     "metadata": {
      "needs_background": "light"
     },
     "output_type": "display_data"
    }
   ],
   "source": [
    "ax = sns.heatmap(cf_matrix/np.sum(cf_matrix), annot=True, \n",
    "            fmt='.2%', cmap='Blues')\n",
    "\n",
    "ax.set_title('ALL Datasets Combined Conf Matrix\\n\\n');\n",
    "ax.set_xlabel('\\nPredicted Values')\n",
    "ax.set_ylabel('Actual Values ')\n",
    "\n",
    "## Ticket labels - List must be in alphabetical order\n",
    "ax.xaxis.set_ticklabels(['False','True'])\n",
    "ax.yaxis.set_ticklabels(['False','True'])\n",
    "\n",
    "## Display the visualization of the Confusion Matrix.\n",
    "plt.show()"
   ]
  },
  {
   "cell_type": "code",
   "execution_count": 155,
   "metadata": {},
   "outputs": [
    {
     "name": "stdout",
     "output_type": "stream",
     "text": [
      "Recal:  0.8251954231335674  Precision:  0.3072704646601  F1 Score:  0.4477983554906632 Accuracy Score:  0.9780400387748042\n"
     ]
    }
   ],
   "source": [
    "import sklearn\n",
    "recall = sklearn.metrics.recall_score(test_set_labels_all,all_test_y)\n",
    "precision = sklearn.metrics.precision_score(test_set_labels_all,all_test_y)\n",
    "f1 =  sklearn.metrics.f1_score(test_set_labels_all,all_test_y)\n",
    "acc = accuracy_score(test_set_labels_all,all_test_y)\n",
    "print(\"Recal: \", recall,\" Precision: \",precision,\" F1 Score: \",f1,\"Accuracy Score: \",acc)"
   ]
  },
  {
   "cell_type": "code",
   "execution_count": null,
   "metadata": {},
   "outputs": [],
   "source": [
    "#TESTING KAGGLE (SHANON) DATASET\n",
    "test_kaggle = pd.read_csv(\"kaggle_test_LIWC.csv\")"
   ]
  },
  {
   "cell_type": "code",
   "execution_count": null,
   "metadata": {},
   "outputs": [],
   "source": [
    "selected_data = pd.DataFrame()\n",
    "#selected_features = [\"Clout\",\"Tone\",\"Linguistic\",\"death\",\"WC\",\"Cognition\",\"WPS\",\"focuspast\",\"focusfuture\",\"ppron\",\"Affect\",\"money\"]\n",
    "for i in selected_features:\n",
    "    selected_data[i] = test_kaggle[i]\n",
    "kaggle_test = selected_data\n",
    "kaggle_label = test_kaggle[\"cls\"]"
   ]
  },
  {
   "cell_type": "code",
   "execution_count": null,
   "metadata": {},
   "outputs": [],
   "source": [
    "kaggle_test = (kaggle_test-means_selected_data)/stds_selected_data"
   ]
  },
  {
   "cell_type": "code",
   "execution_count": null,
   "metadata": {},
   "outputs": [],
   "source": [
    "y_pred_kaggle = lgbm_model.predict(kaggle_test)"
   ]
  },
  {
   "cell_type": "code",
   "execution_count": null,
   "metadata": {},
   "outputs": [],
   "source": [
    "from sklearn.metrics import accuracy_score\n",
    "acc = accuracy_score(kaggle_label, y_pred_kaggle)\n",
    "# Print out the mean absolute error (mae)\n",
    "print(\"Accuracy: \",acc)"
   ]
  },
  {
   "cell_type": "code",
   "execution_count": null,
   "metadata": {},
   "outputs": [],
   "source": [
    "from sklearn.metrics import confusion_matrix\n",
    "confusion_matrix(kaggle_label,y_pred_kaggle)"
   ]
  },
  {
   "cell_type": "code",
   "execution_count": null,
   "metadata": {},
   "outputs": [],
   "source": [
    "#TESTING reddıt (LIFE) DATASET\n",
    "test_reddit = pd.read_csv(\"reddit_corpus_agree_LIWC.csv\")"
   ]
  },
  {
   "cell_type": "code",
   "execution_count": null,
   "metadata": {},
   "outputs": [],
   "source": [
    "selected_data = pd.DataFrame()\n",
    "selected_features = [\"Clout\",\"Tone\",\"Linguistic\",\"death\",\"WC\",\"Cognition\",\"WPS\",\"focuspast\",\"focusfuture\",\"ppron\",\"Affect\",\"money\"]\n",
    "for i in selected_features:\n",
    "    selected_data[i] = test_reddit[i]\n",
    "reddit_test = selected_data\n",
    "test_reddit[\"cls\"][test_reddit[\"cls\"] ==\"No risk\"]=0 \n",
    "test_reddit[\"cls\"][test_reddit[\"cls\"] ==\"Risk\"]=1\n",
    "reddit_test_label = test_reddit[\"cls\"].astype(\"int\")\n"
   ]
  },
  {
   "cell_type": "code",
   "execution_count": null,
   "metadata": {},
   "outputs": [],
   "source": [
    "reddit_test = (reddit_test-means_selected_data)/stds_selected_data"
   ]
  },
  {
   "cell_type": "code",
   "execution_count": null,
   "metadata": {},
   "outputs": [],
   "source": [
    "reddit_test_label.values"
   ]
  },
  {
   "cell_type": "code",
   "execution_count": null,
   "metadata": {},
   "outputs": [],
   "source": [
    "y_pred_reddit = lgbm_model.predict(reddit_test)"
   ]
  },
  {
   "cell_type": "code",
   "execution_count": null,
   "metadata": {},
   "outputs": [],
   "source": [
    "from sklearn.metrics import accuracy_score\n",
    "acc = accuracy_score(reddit_test_label.values, y_pred_reddit)\n",
    "# Print out the mean absolute error (mae)\n",
    "print(\"Accuracy: \",acc)"
   ]
  },
  {
   "cell_type": "code",
   "execution_count": null,
   "metadata": {},
   "outputs": [],
   "source": [
    "from sklearn.metrics import confusion_matrix\n",
    "confusion_matrix(reddit_test_label.values,y_pred_reddit)"
   ]
  },
  {
   "cell_type": "markdown",
   "metadata": {},
   "source": [
    "**Large Neutral Dataset Oluşturma Kısmı (Imbalanced Classification)**"
   ]
  },
  {
   "cell_type": "code",
   "execution_count": 126,
   "metadata": {},
   "outputs": [
    {
     "ename": "FileNotFoundError",
     "evalue": "[Errno 2] No such file or directory: 'training.1600000.processed.noemoticon.csv'",
     "output_type": "error",
     "traceback": [
      "\u001b[1;31m---------------------------------------------------------------------------\u001b[0m",
      "\u001b[1;31mFileNotFoundError\u001b[0m                         Traceback (most recent call last)",
      "\u001b[1;32m~\\AppData\\Local\\Temp\\ipykernel_23056\\1546729871.py\u001b[0m in \u001b[0;36m<module>\u001b[1;34m\u001b[0m\n\u001b[1;32m----> 1\u001b[1;33m \u001b[0mneutral_data\u001b[0m \u001b[1;33m=\u001b[0m \u001b[0mpd\u001b[0m\u001b[1;33m.\u001b[0m\u001b[0mread_csv\u001b[0m\u001b[1;33m(\u001b[0m\u001b[1;34m\"training.1600000.processed.noemoticon.csv\"\u001b[0m\u001b[1;33m)\u001b[0m\u001b[1;33m\u001b[0m\u001b[1;33m\u001b[0m\u001b[0m\n\u001b[0m\u001b[0;32m      2\u001b[0m \u001b[0mneutral_data\u001b[0m\u001b[1;33m.\u001b[0m\u001b[0mcolumns\u001b[0m \u001b[1;33m=\u001b[0m \u001b[1;33m[\u001b[0m\u001b[1;34m\"Polarity\"\u001b[0m\u001b[1;33m,\u001b[0m\u001b[1;34m\"Id\"\u001b[0m\u001b[1;33m,\u001b[0m\u001b[1;34m\"Date\"\u001b[0m\u001b[1;33m,\u001b[0m\u001b[1;34m\"Query\"\u001b[0m\u001b[1;33m,\u001b[0m\u001b[1;34m\"User\"\u001b[0m\u001b[1;33m,\u001b[0m\u001b[1;34m\"text\"\u001b[0m\u001b[1;33m]\u001b[0m\u001b[1;33m\u001b[0m\u001b[1;33m\u001b[0m\u001b[0m\n\u001b[0;32m      3\u001b[0m \u001b[1;31m# the polarity of the tweet (0 = negative, 2 = neutral, 4 = positive)\u001b[0m\u001b[1;33m\u001b[0m\u001b[1;33m\u001b[0m\u001b[1;33m\u001b[0m\u001b[0m\n",
      "\u001b[1;32mc:\\Users\\User\\anaconda3\\envs\\malsd\\lib\\site-packages\\pandas\\util\\_decorators.py\u001b[0m in \u001b[0;36mwrapper\u001b[1;34m(*args, **kwargs)\u001b[0m\n\u001b[0;32m    309\u001b[0m                     \u001b[0mstacklevel\u001b[0m\u001b[1;33m=\u001b[0m\u001b[0mstacklevel\u001b[0m\u001b[1;33m,\u001b[0m\u001b[1;33m\u001b[0m\u001b[1;33m\u001b[0m\u001b[0m\n\u001b[0;32m    310\u001b[0m                 )\n\u001b[1;32m--> 311\u001b[1;33m             \u001b[1;32mreturn\u001b[0m \u001b[0mfunc\u001b[0m\u001b[1;33m(\u001b[0m\u001b[1;33m*\u001b[0m\u001b[0margs\u001b[0m\u001b[1;33m,\u001b[0m \u001b[1;33m**\u001b[0m\u001b[0mkwargs\u001b[0m\u001b[1;33m)\u001b[0m\u001b[1;33m\u001b[0m\u001b[1;33m\u001b[0m\u001b[0m\n\u001b[0m\u001b[0;32m    312\u001b[0m \u001b[1;33m\u001b[0m\u001b[0m\n\u001b[0;32m    313\u001b[0m         \u001b[1;32mreturn\u001b[0m \u001b[0mwrapper\u001b[0m\u001b[1;33m\u001b[0m\u001b[1;33m\u001b[0m\u001b[0m\n",
      "\u001b[1;32mc:\\Users\\User\\anaconda3\\envs\\malsd\\lib\\site-packages\\pandas\\io\\parsers\\readers.py\u001b[0m in \u001b[0;36mread_csv\u001b[1;34m(filepath_or_buffer, sep, delimiter, header, names, index_col, usecols, squeeze, prefix, mangle_dupe_cols, dtype, engine, converters, true_values, false_values, skipinitialspace, skiprows, skipfooter, nrows, na_values, keep_default_na, na_filter, verbose, skip_blank_lines, parse_dates, infer_datetime_format, keep_date_col, date_parser, dayfirst, cache_dates, iterator, chunksize, compression, thousands, decimal, lineterminator, quotechar, quoting, doublequote, escapechar, comment, encoding, encoding_errors, dialect, error_bad_lines, warn_bad_lines, on_bad_lines, delim_whitespace, low_memory, memory_map, float_precision, storage_options)\u001b[0m\n\u001b[0;32m    584\u001b[0m     \u001b[0mkwds\u001b[0m\u001b[1;33m.\u001b[0m\u001b[0mupdate\u001b[0m\u001b[1;33m(\u001b[0m\u001b[0mkwds_defaults\u001b[0m\u001b[1;33m)\u001b[0m\u001b[1;33m\u001b[0m\u001b[1;33m\u001b[0m\u001b[0m\n\u001b[0;32m    585\u001b[0m \u001b[1;33m\u001b[0m\u001b[0m\n\u001b[1;32m--> 586\u001b[1;33m     \u001b[1;32mreturn\u001b[0m \u001b[0m_read\u001b[0m\u001b[1;33m(\u001b[0m\u001b[0mfilepath_or_buffer\u001b[0m\u001b[1;33m,\u001b[0m \u001b[0mkwds\u001b[0m\u001b[1;33m)\u001b[0m\u001b[1;33m\u001b[0m\u001b[1;33m\u001b[0m\u001b[0m\n\u001b[0m\u001b[0;32m    587\u001b[0m \u001b[1;33m\u001b[0m\u001b[0m\n\u001b[0;32m    588\u001b[0m \u001b[1;33m\u001b[0m\u001b[0m\n",
      "\u001b[1;32mc:\\Users\\User\\anaconda3\\envs\\malsd\\lib\\site-packages\\pandas\\io\\parsers\\readers.py\u001b[0m in \u001b[0;36m_read\u001b[1;34m(filepath_or_buffer, kwds)\u001b[0m\n\u001b[0;32m    480\u001b[0m \u001b[1;33m\u001b[0m\u001b[0m\n\u001b[0;32m    481\u001b[0m     \u001b[1;31m# Create the parser.\u001b[0m\u001b[1;33m\u001b[0m\u001b[1;33m\u001b[0m\u001b[1;33m\u001b[0m\u001b[0m\n\u001b[1;32m--> 482\u001b[1;33m     \u001b[0mparser\u001b[0m \u001b[1;33m=\u001b[0m \u001b[0mTextFileReader\u001b[0m\u001b[1;33m(\u001b[0m\u001b[0mfilepath_or_buffer\u001b[0m\u001b[1;33m,\u001b[0m \u001b[1;33m**\u001b[0m\u001b[0mkwds\u001b[0m\u001b[1;33m)\u001b[0m\u001b[1;33m\u001b[0m\u001b[1;33m\u001b[0m\u001b[0m\n\u001b[0m\u001b[0;32m    483\u001b[0m \u001b[1;33m\u001b[0m\u001b[0m\n\u001b[0;32m    484\u001b[0m     \u001b[1;32mif\u001b[0m \u001b[0mchunksize\u001b[0m \u001b[1;32mor\u001b[0m \u001b[0miterator\u001b[0m\u001b[1;33m:\u001b[0m\u001b[1;33m\u001b[0m\u001b[1;33m\u001b[0m\u001b[0m\n",
      "\u001b[1;32mc:\\Users\\User\\anaconda3\\envs\\malsd\\lib\\site-packages\\pandas\\io\\parsers\\readers.py\u001b[0m in \u001b[0;36m__init__\u001b[1;34m(self, f, engine, **kwds)\u001b[0m\n\u001b[0;32m    809\u001b[0m             \u001b[0mself\u001b[0m\u001b[1;33m.\u001b[0m\u001b[0moptions\u001b[0m\u001b[1;33m[\u001b[0m\u001b[1;34m\"has_index_names\"\u001b[0m\u001b[1;33m]\u001b[0m \u001b[1;33m=\u001b[0m \u001b[0mkwds\u001b[0m\u001b[1;33m[\u001b[0m\u001b[1;34m\"has_index_names\"\u001b[0m\u001b[1;33m]\u001b[0m\u001b[1;33m\u001b[0m\u001b[1;33m\u001b[0m\u001b[0m\n\u001b[0;32m    810\u001b[0m \u001b[1;33m\u001b[0m\u001b[0m\n\u001b[1;32m--> 811\u001b[1;33m         \u001b[0mself\u001b[0m\u001b[1;33m.\u001b[0m\u001b[0m_engine\u001b[0m \u001b[1;33m=\u001b[0m \u001b[0mself\u001b[0m\u001b[1;33m.\u001b[0m\u001b[0m_make_engine\u001b[0m\u001b[1;33m(\u001b[0m\u001b[0mself\u001b[0m\u001b[1;33m.\u001b[0m\u001b[0mengine\u001b[0m\u001b[1;33m)\u001b[0m\u001b[1;33m\u001b[0m\u001b[1;33m\u001b[0m\u001b[0m\n\u001b[0m\u001b[0;32m    812\u001b[0m \u001b[1;33m\u001b[0m\u001b[0m\n\u001b[0;32m    813\u001b[0m     \u001b[1;32mdef\u001b[0m \u001b[0mclose\u001b[0m\u001b[1;33m(\u001b[0m\u001b[0mself\u001b[0m\u001b[1;33m)\u001b[0m\u001b[1;33m:\u001b[0m\u001b[1;33m\u001b[0m\u001b[1;33m\u001b[0m\u001b[0m\n",
      "\u001b[1;32mc:\\Users\\User\\anaconda3\\envs\\malsd\\lib\\site-packages\\pandas\\io\\parsers\\readers.py\u001b[0m in \u001b[0;36m_make_engine\u001b[1;34m(self, engine)\u001b[0m\n\u001b[0;32m   1038\u001b[0m             )\n\u001b[0;32m   1039\u001b[0m         \u001b[1;31m# error: Too many arguments for \"ParserBase\"\u001b[0m\u001b[1;33m\u001b[0m\u001b[1;33m\u001b[0m\u001b[1;33m\u001b[0m\u001b[0m\n\u001b[1;32m-> 1040\u001b[1;33m         \u001b[1;32mreturn\u001b[0m \u001b[0mmapping\u001b[0m\u001b[1;33m[\u001b[0m\u001b[0mengine\u001b[0m\u001b[1;33m]\u001b[0m\u001b[1;33m(\u001b[0m\u001b[0mself\u001b[0m\u001b[1;33m.\u001b[0m\u001b[0mf\u001b[0m\u001b[1;33m,\u001b[0m \u001b[1;33m**\u001b[0m\u001b[0mself\u001b[0m\u001b[1;33m.\u001b[0m\u001b[0moptions\u001b[0m\u001b[1;33m)\u001b[0m  \u001b[1;31m# type: ignore[call-arg]\u001b[0m\u001b[1;33m\u001b[0m\u001b[1;33m\u001b[0m\u001b[0m\n\u001b[0m\u001b[0;32m   1041\u001b[0m \u001b[1;33m\u001b[0m\u001b[0m\n\u001b[0;32m   1042\u001b[0m     \u001b[1;32mdef\u001b[0m \u001b[0m_failover_to_python\u001b[0m\u001b[1;33m(\u001b[0m\u001b[0mself\u001b[0m\u001b[1;33m)\u001b[0m\u001b[1;33m:\u001b[0m\u001b[1;33m\u001b[0m\u001b[1;33m\u001b[0m\u001b[0m\n",
      "\u001b[1;32mc:\\Users\\User\\anaconda3\\envs\\malsd\\lib\\site-packages\\pandas\\io\\parsers\\c_parser_wrapper.py\u001b[0m in \u001b[0;36m__init__\u001b[1;34m(self, src, **kwds)\u001b[0m\n\u001b[0;32m     49\u001b[0m \u001b[1;33m\u001b[0m\u001b[0m\n\u001b[0;32m     50\u001b[0m         \u001b[1;31m# open handles\u001b[0m\u001b[1;33m\u001b[0m\u001b[1;33m\u001b[0m\u001b[1;33m\u001b[0m\u001b[0m\n\u001b[1;32m---> 51\u001b[1;33m         \u001b[0mself\u001b[0m\u001b[1;33m.\u001b[0m\u001b[0m_open_handles\u001b[0m\u001b[1;33m(\u001b[0m\u001b[0msrc\u001b[0m\u001b[1;33m,\u001b[0m \u001b[0mkwds\u001b[0m\u001b[1;33m)\u001b[0m\u001b[1;33m\u001b[0m\u001b[1;33m\u001b[0m\u001b[0m\n\u001b[0m\u001b[0;32m     52\u001b[0m         \u001b[1;32massert\u001b[0m \u001b[0mself\u001b[0m\u001b[1;33m.\u001b[0m\u001b[0mhandles\u001b[0m \u001b[1;32mis\u001b[0m \u001b[1;32mnot\u001b[0m \u001b[1;32mNone\u001b[0m\u001b[1;33m\u001b[0m\u001b[1;33m\u001b[0m\u001b[0m\n\u001b[0;32m     53\u001b[0m \u001b[1;33m\u001b[0m\u001b[0m\n",
      "\u001b[1;32mc:\\Users\\User\\anaconda3\\envs\\malsd\\lib\\site-packages\\pandas\\io\\parsers\\base_parser.py\u001b[0m in \u001b[0;36m_open_handles\u001b[1;34m(self, src, kwds)\u001b[0m\n\u001b[0;32m    227\u001b[0m             \u001b[0mmemory_map\u001b[0m\u001b[1;33m=\u001b[0m\u001b[0mkwds\u001b[0m\u001b[1;33m.\u001b[0m\u001b[0mget\u001b[0m\u001b[1;33m(\u001b[0m\u001b[1;34m\"memory_map\"\u001b[0m\u001b[1;33m,\u001b[0m \u001b[1;32mFalse\u001b[0m\u001b[1;33m)\u001b[0m\u001b[1;33m,\u001b[0m\u001b[1;33m\u001b[0m\u001b[1;33m\u001b[0m\u001b[0m\n\u001b[0;32m    228\u001b[0m             \u001b[0mstorage_options\u001b[0m\u001b[1;33m=\u001b[0m\u001b[0mkwds\u001b[0m\u001b[1;33m.\u001b[0m\u001b[0mget\u001b[0m\u001b[1;33m(\u001b[0m\u001b[1;34m\"storage_options\"\u001b[0m\u001b[1;33m,\u001b[0m \u001b[1;32mNone\u001b[0m\u001b[1;33m)\u001b[0m\u001b[1;33m,\u001b[0m\u001b[1;33m\u001b[0m\u001b[1;33m\u001b[0m\u001b[0m\n\u001b[1;32m--> 229\u001b[1;33m             \u001b[0merrors\u001b[0m\u001b[1;33m=\u001b[0m\u001b[0mkwds\u001b[0m\u001b[1;33m.\u001b[0m\u001b[0mget\u001b[0m\u001b[1;33m(\u001b[0m\u001b[1;34m\"encoding_errors\"\u001b[0m\u001b[1;33m,\u001b[0m \u001b[1;34m\"strict\"\u001b[0m\u001b[1;33m)\u001b[0m\u001b[1;33m,\u001b[0m\u001b[1;33m\u001b[0m\u001b[1;33m\u001b[0m\u001b[0m\n\u001b[0m\u001b[0;32m    230\u001b[0m         )\n\u001b[0;32m    231\u001b[0m \u001b[1;33m\u001b[0m\u001b[0m\n",
      "\u001b[1;32mc:\\Users\\User\\anaconda3\\envs\\malsd\\lib\\site-packages\\pandas\\io\\common.py\u001b[0m in \u001b[0;36mget_handle\u001b[1;34m(path_or_buf, mode, encoding, compression, memory_map, is_text, errors, storage_options)\u001b[0m\n\u001b[0;32m    704\u001b[0m                 \u001b[0mencoding\u001b[0m\u001b[1;33m=\u001b[0m\u001b[0mioargs\u001b[0m\u001b[1;33m.\u001b[0m\u001b[0mencoding\u001b[0m\u001b[1;33m,\u001b[0m\u001b[1;33m\u001b[0m\u001b[1;33m\u001b[0m\u001b[0m\n\u001b[0;32m    705\u001b[0m                 \u001b[0merrors\u001b[0m\u001b[1;33m=\u001b[0m\u001b[0merrors\u001b[0m\u001b[1;33m,\u001b[0m\u001b[1;33m\u001b[0m\u001b[1;33m\u001b[0m\u001b[0m\n\u001b[1;32m--> 706\u001b[1;33m                 \u001b[0mnewline\u001b[0m\u001b[1;33m=\u001b[0m\u001b[1;34m\"\"\u001b[0m\u001b[1;33m,\u001b[0m\u001b[1;33m\u001b[0m\u001b[1;33m\u001b[0m\u001b[0m\n\u001b[0m\u001b[0;32m    707\u001b[0m             )\n\u001b[0;32m    708\u001b[0m         \u001b[1;32melse\u001b[0m\u001b[1;33m:\u001b[0m\u001b[1;33m\u001b[0m\u001b[1;33m\u001b[0m\u001b[0m\n",
      "\u001b[1;31mFileNotFoundError\u001b[0m: [Errno 2] No such file or directory: 'training.1600000.processed.noemoticon.csv'"
     ]
    }
   ],
   "source": [
    "neutral_data = pd.read_csv(\"training.1600000.processed.noemoticon.csv\")\n",
    "neutral_data.columns = [\"Polarity\",\"Id\",\"Date\",\"Query\",\"User\",\"text\"]\n",
    "# the polarity of the tweet (0 = negative, 2 = neutral, 4 = positive)"
   ]
  },
  {
   "cell_type": "code",
   "execution_count": null,
   "metadata": {},
   "outputs": [],
   "source": [
    "neutral_data.head()\n",
    "len(neutral_data)"
   ]
  },
  {
   "cell_type": "code",
   "execution_count": null,
   "metadata": {},
   "outputs": [],
   "source": [
    "zero_col = np.zeros(len(neutral_data))\n",
    "neutral_data[\"class\"] = zero_col"
   ]
  },
  {
   "cell_type": "code",
   "execution_count": 122,
   "metadata": {},
   "outputs": [],
   "source": [
    "#Sentiment140 Neural Post Data\n",
    "neutral_sent140 = neutral_data[[\"text\",\"class\"]]\n",
    "# Save and run the LIWC\n",
    "neutral_sent140.to_csv(\"sent140_neutral.csv\")"
   ]
  },
  {
   "cell_type": "code",
   "execution_count": 128,
   "metadata": {},
   "outputs": [],
   "source": [
    "#LOAD THE LIWC RESULT\n",
    "sent140_neu =pd.read_csv(r\"D:\\Masaüstü\\suicide-detection-project\\all_data\\sent140_data\\sent140_neutral-LIWC Analysis.csv\")"
   ]
  },
  {
   "cell_type": "code",
   "execution_count": 129,
   "metadata": {},
   "outputs": [],
   "source": [
    "sent140_labels = sent140_neu[\"class\"]\n",
    "sent140_neu_test = sent140_neu[selected_features]\n",
    "#sent140_neu_test = (sent140_neu_test-means_selected_data)/stds_selected_data"
   ]
  },
  {
   "cell_type": "code",
   "execution_count": 130,
   "metadata": {},
   "outputs": [],
   "source": [
    "sen140pred = lgbm_model.predict(sent140_neu_test)"
   ]
  },
  {
   "cell_type": "code",
   "execution_count": 131,
   "metadata": {},
   "outputs": [
    {
     "data": {
      "image/png": "[encoded data removed]",
      "text/plain": [
       "<Figure size 432x288 with 2 Axes>"
      ]
     },
     "metadata": {
      "needs_background": "light"
     },
     "output_type": "display_data"
    }
   ],
   "source": [
    "import matplotlib.pyplot as plt\n",
    "from sklearn.metrics import plot_confusion_matrix\n",
    "import seaborn as sns\n",
    "cf_matrix = confusion_matrix(sent140_labels.values,sen140pred)\n",
    "\n",
    "labels = ['True Neg','False Pos','False Neg','True Pos']\n",
    "\n",
    "labels = np.asarray(labels).reshape(2,2)\n",
    "\n",
    "ax = sns.heatmap(cf_matrix, annot=cf_matrix, fmt='', cmap='Blues')\n",
    "\n",
    "ax.set_title('Seaborn Confusion Matrix with labels\\n\\n');\n",
    "ax.set_xlabel('\\nPredicted Values')\n",
    "ax.set_ylabel('Actual Values ');\n",
    "\n",
    "## Ticket labels - List must be in alphabetical order\n",
    "ax.xaxis.set_ticklabels(['False','True'])\n",
    "ax.yaxis.set_ticklabels(['False','True'])\n",
    "\n",
    "## Display the visualization of the Confusion Matrix.\n",
    "plt.show()"
   ]
  },
  {
   "cell_type": "code",
   "execution_count": 132,
   "metadata": {},
   "outputs": [
    {
     "data": {
      "image/png": "[encoded data removed]",
      "text/plain": [
       "<Figure size 432x288 with 2 Axes>"
      ]
     },
     "metadata": {
      "needs_background": "light"
     },
     "output_type": "display_data"
    }
   ],
   "source": [
    "ax = sns.heatmap(cf_matrix/np.sum(cf_matrix), annot=True, \n",
    "            fmt='.2%', cmap='Blues')\n",
    "\n",
    "ax.set_title('Seaborn Confusion Matrix with labels\\n\\n');\n",
    "ax.set_xlabel('\\nPredicted Values')\n",
    "ax.set_ylabel('Actual Values ')\n",
    "\n",
    "## Ticket labels - List must be in alphabetical order\n",
    "ax.xaxis.set_ticklabels(['False','True'])\n",
    "ax.yaxis.set_ticklabels(['False','True'])\n",
    "\n",
    "## Display the visualization of the Confusion Matrix.\n",
    "plt.show()"
   ]
  },
  {
   "cell_type": "code",
   "execution_count": null,
   "metadata": {},
   "outputs": [],
   "source": [
    "#Schoene Test\n",
    "schoene_neu = pd.read_csv(\"NEU-LIWC Analysis.csv\")\n",
    "schoene_neu.head()\n",
    "schoene_neu.drop(columns=[\"labels\"],inplace= True)\n",
    "schoene_neu[\"class\"] = np.zeros(len(schoene_neu))"
   ]
  },
  {
   "cell_type": "code",
   "execution_count": null,
   "metadata": {},
   "outputs": [],
   "source": [
    "schoene_neu_labels = schoene_neu[\"class\"]\n",
    "schoene_neu_test = schoene_neu[selected_features]\n",
    "schoene_neu_test = (schoene_neu_test-means_selected_data)/stds_selected_data"
   ]
  },
  {
   "cell_type": "code",
   "execution_count": null,
   "metadata": {},
   "outputs": [],
   "source": [
    "schoene_neu_pred = lgbm_model.predict(schoene_neu_test)"
   ]
  },
  {
   "cell_type": "code",
   "execution_count": null,
   "metadata": {},
   "outputs": [],
   "source": [
    "import matplotlib.pyplot as plt\n",
    "from sklearn.metrics import plot_confusion_matrix\n",
    "import seaborn as sns\n",
    "cf_matrix = confusion_matrix(schoene_neu_labels.values,schoene_neu_pred)\n",
    "\n",
    "labels = ['True Neg','False Pos','False Neg','True Pos']\n",
    "\n",
    "labels = np.asarray(cf_matrix).reshape(2,2)\n",
    "\n",
    "ax = sns.heatmap(cf_matrix, annot=labels, fmt='', cmap='Blues')\n",
    "\n",
    "ax.set_title('Seaborn Confusion Matrix with labels\\n\\n');\n",
    "ax.set_xlabel('\\nPredicted Values')\n",
    "ax.set_ylabel('Actual Values ');\n",
    "\n",
    "## Ticket labels - List must be in alphabetical order\n",
    "ax.xaxis.set_ticklabels(['False','True'])\n",
    "ax.yaxis.set_ticklabels(['False','True'])\n",
    "\n",
    "## Display the visualization of the Confusion Matrix.\n",
    "plt.show()"
   ]
  },
  {
   "cell_type": "code",
   "execution_count": null,
   "metadata": {},
   "outputs": [],
   "source": [
    "ax = sns.heatmap(cf_matrix/np.sum(cf_matrix), annot=True, \n",
    "            fmt='.2%', cmap='Blues')\n",
    "\n",
    "ax.set_title('Seaborn Confusion Matrix with labels\\n\\n');\n",
    "ax.set_xlabel('\\nPredicted Values')\n",
    "ax.set_ylabel('Actual Values ');\n",
    "\n",
    "## Ticket labels - List must be in alphabetical order\n",
    "ax.xaxis.set_ticklabels(['False','True'])\n",
    "ax.yaxis.set_ticklabels(['False','True'])\n",
    "\n",
    "## Display the visualization of the Confusion Matrix.\n",
    "plt.show()"
   ]
  },
  {
   "cell_type": "code",
   "execution_count": null,
   "metadata": {},
   "outputs": [],
   "source": [
    "schoene_all_test = np.append(kaggle_test,schoene_neu_test,axis=0)\n",
    "schoene_all_labels = np.append(kaggle_label,schoene_neu_labels,axis=0)"
   ]
  },
  {
   "cell_type": "code",
   "execution_count": null,
   "metadata": {},
   "outputs": [],
   "source": [
    "schoene_all_pred = lgbm_model.predict(schoene_all_test)"
   ]
  },
  {
   "cell_type": "code",
   "execution_count": null,
   "metadata": {},
   "outputs": [],
   "source": [
    "len(schoene_all_labels)"
   ]
  },
  {
   "cell_type": "code",
   "execution_count": null,
   "metadata": {},
   "outputs": [],
   "source": [
    "import matplotlib.pyplot as plt\n",
    "from sklearn.metrics import plot_confusion_matrix\n",
    "import seaborn as sns\n",
    "cf_matrix = confusion_matrix(schoene_all_labels,schoene_all_pred)\n",
    "\n",
    "labels = ['True Neg','False Pos','False Neg','True Pos']\n",
    "\n",
    "labels = np.asarray(cf_matrix).reshape(2,2)\n",
    "\n",
    "ax = sns.heatmap(cf_matrix, annot=labels, fmt='', cmap='Blues')\n",
    "\n",
    "ax.set_title('Seaborn Confusion Matrix with labels\\n\\n');\n",
    "ax.set_xlabel('\\nPredicted Values')\n",
    "ax.set_ylabel('Actual Values ');\n",
    "\n",
    "## Ticket labels - List must be in alphabetical order\n",
    "ax.xaxis.set_ticklabels(['False','True'])\n",
    "ax.yaxis.set_ticklabels(['False','True'])\n",
    "\n",
    "## Display the visualization of the Confusion Matrix.\n",
    "plt.show()"
   ]
  },
  {
   "cell_type": "code",
   "execution_count": null,
   "metadata": {},
   "outputs": [],
   "source": [
    "ax = sns.heatmap(cf_matrix/np.sum(cf_matrix), annot=True, \n",
    "            fmt='.2%', cmap='Blues')\n",
    "\n",
    "ax.set_title('Seaborn Confusion Matrix with labels\\n\\n');\n",
    "ax.set_xlabel('\\nPredicted Values')\n",
    "ax.set_ylabel('Actual Values ');\n",
    "\n",
    "## Ticket labels - List must be in alphabetical order\n",
    "ax.xaxis.set_ticklabels(['False','True'])\n",
    "ax.yaxis.set_ticklabels(['False','True'])\n",
    "\n",
    "## Display the visualization of the Confusion Matrix.\n",
    "plt.show()"
   ]
  },
  {
   "cell_type": "code",
   "execution_count": null,
   "metadata": {},
   "outputs": [],
   "source": []
  },
  {
   "cell_type": "code",
   "execution_count": null,
   "metadata": {},
   "outputs": [],
   "source": [
    "import sklearn\n",
    "recall = sklearn.metrics.recall_score(schoene_all_labels,schoene_all_pred)\n",
    "precision = sklearn.metrics.precision_score(schoene_all_labels,schoene_all_pred)\n",
    "f1 =  sklearn.metrics.f1_score(schoene_all_labels,schoene_all_pred)\n",
    "print(\"Recal: \", recall,\" Precision: \",precision,\" F1 Score: \",f1)"
   ]
  },
  {
   "cell_type": "markdown",
   "metadata": {},
   "source": [
    "**Asdnin Ayırdığı Data için Yazılmış Kısım (aynı)**"
   ]
  },
  {
   "cell_type": "code",
   "execution_count": null,
   "metadata": {},
   "outputs": [],
   "source": [
    "data = torch.load('processed_dataset_sf.pt')\n",
    "train_inputs = data['train_inputs']\n",
    "train_masks = data['train_masks']\n",
    "train_labels = data['train_labels']\n",
    "side_features_train = data['side_features_train']\n",
    "val_inputs = data['val_inputs']\n",
    "val_masks = data['val_masks']\n",
    "val_labels = data['val_labels']\n",
    "side_features_val = data['side_features_val']"
   ]
  },
  {
   "cell_type": "code",
   "execution_count": null,
   "metadata": {},
   "outputs": [],
   "source": [
    "side_features_train.shape"
   ]
  },
  {
   "cell_type": "code",
   "execution_count": null,
   "metadata": {},
   "outputs": [],
   "source": [
    "import matplotlib.pyplot as plt\n",
    "\n",
    "import lightgbm\n",
    "\n",
    "from lightgbm import LGBMClassifier\n",
    "\n",
    "lgbm_model = LGBMClassifier(max_depth=3,n_estimators=1000,num_leaves=100,colsample_bynode= 0.6,colsample_bytree= 0.64079,learning_rate=0.01)\n",
    "\n",
    "lgbm_model.fit(side_features_train, train_labels)\n",
    "\n",
    "y_pred = lgbm_model.predict(side_features_val)"
   ]
  },
  {
   "cell_type": "code",
   "execution_count": null,
   "metadata": {},
   "outputs": [],
   "source": [
    "from sklearn.metrics import accuracy_score\n",
    "acc = accuracy_score(val_labels, y_pred)\n",
    "# Print out the mean absolute error (mae)\n",
    "print(\"Accuracy: \",acc)"
   ]
  },
  {
   "cell_type": "code",
   "execution_count": null,
   "metadata": {},
   "outputs": [],
   "source": []
  }
 ],
 "metadata": {
  "interpreter": {
   "hash": "5f4b748f4256bfd65dd2ef4d45f70b1f175df01d085382b500cbdc41d78a0c70"
  },
  "kernelspec": {
   "display_name": "Python 3.7.11 ('malsd')",
   "language": "python",
   "name": "python3"
  },
  "language_info": {
   "codemirror_mode": {
    "name": "ipython",
    "version": 3
   },
   "file_extension": ".py",
   "mimetype": "text/x-python",
   "name": "python",
   "nbconvert_exporter": "python",
   "pygments_lexer": "ipython3",
   "version": "3.7.13"
  },
  "orig_nbformat": 4
 },
 "nbformat": 4,
 "nbformat_minor": 2
}
